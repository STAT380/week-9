{
  "cells": [
    {
      "cell_type": "markdown",
      "id": "c63b5c85-4e4c-4608-8e8b-fc0dee70ea07",
      "metadata": {},
      "source": [
        "# Week 9\n",
        "\n",
        "# Agenda\n",
        "\n",
        "-   Auto Diff\n",
        "\n",
        "-   Logistic Regression With Torch\n",
        "\n",
        "-   Classification With NN\n",
        "\n",
        "#### Packages we will require this week\n",
        "\n",
        "# Recap: Gradient Descent"
      ]
    },
    {
      "cell_type": "code",
      "execution_count": null,
      "id": "4f7dbb39-a44d-4240-930d-30e676eb3ee7",
      "metadata": {},
      "outputs": [
        {
          "name": "stdout",
          "output_type": "stream",
          "text": [
            "[1] 1094.266"
          ]
        },
        {
          "name": "stdout",
          "output_type": "stream",
          "text": [
            "[1]  -51.18431 -940.75444"
          ]
        },
        {
          "name": "stdout",
          "output_type": "stream",
          "text": [
            "Iteration: 1     Loss value: 2266.69206282505\n",
            "Iteration: 2     Loss value: 2059.23910669385\n",
            "Iteration: 3     Loss value: 1873.22918303142\n",
            "Iteration: 4     Loss value: 1706.44585378999\n",
            "Iteration: 5     Loss value: 1556.90178087543\n",
            "Iteration: 6     Loss value: 1422.8150454474\n",
            "Iteration: 7     Loss value: 1302.58791495726\n",
            "Iteration: 8     Loss value: 1194.78780492464\n",
            "Iteration: 9     Loss value: 1098.13020855637\n",
            "Iteration: 10    Loss value: 1011.46339084899\n",
            "Iteration: 1000  Loss value: 258.3737211186\n",
            "Iteration: 2000  Loss value: 257.107595890431\n",
            "Iteration: 3000  Loss value: 255.892681655609\n",
            "Iteration: 4000  Loss value: 254.726907082071\n",
            "Iteration: 5000  Loss value: 253.608284616897\n",
            "Iteration: 6000  Loss value: 252.534907097769\n",
            "Iteration: 7000  Loss value: 251.504944501431\n",
            "Iteration: 8000  Loss value: 250.516640823577\n",
            "Iteration: 9000  Loss value: 249.568311085104"
          ]
        }
      ],
      "source": [
        "x <- cars$speed\n",
        "y <- cars$dist\n",
        "\n",
        "# define the loss function\n",
        "\n",
        "Loss <- function(b, x, y){\n",
        "    squares <- (y - b[1] - b[2] * x)^2\n",
        "    return( mean(squares) )\n",
        "}\n",
        "\n",
        "b <- rnorm(2)\n",
        "Loss(b, cars$speed, cars$dist)\n",
        "\n",
        "# define a function to compute the gradients\n",
        "\n",
        "grad <- function(b, Loss, x, y, eps=1e-5){\n",
        "    b0_up <- Loss( c(b[1] + eps, b[2]), x, y)\n",
        "    b0_dn <- Loss( c(b[1] - eps, b[2]), x, y)\n",
        "    \n",
        "    b1_up <- Loss( c(b[1], b[2] + eps), x, y)\n",
        "    b1_dn <- Loss( c(b[1], b[2] - eps), x, y)\n",
        "    \n",
        "    grad_b0_L <- (b0_up - b0_dn) / (2 * eps)\n",
        "    grad_b1_L <- (b1_up - b1_dn) / (2 * eps)\n",
        "    \n",
        "    return( c(grad_b0_L, grad_b1_L) )\n",
        "}\n",
        "\n",
        "grad(b, Loss, cars$speed, cars$dist)\n",
        "\n",
        "steps <- 9999\n",
        "L_numeric <- rep(Inf, steps)\n",
        "eta <- 1e-4\n",
        "b_numeric <- rep(0.0, 2)\n",
        "\n",
        "for (i in 1:steps){\n",
        "    b_numeric <- b_numeric - eta * grad(b_numeric, Loss, cars$speed, cars$dist)\n",
        "    L_numeric[i] <- Loss(b_numeric, cars$speed, cars$dist)\n",
        "    if(i %in% c(1:10) || i %% 1000 == 0){\n",
        "        cat(sprintf(\"Iteration: %s\\t Loss value: %s\\n\", i, L_numeric[i]))\n",
        "    }\n",
        "}"
      ]
    },
    {
      "cell_type": "markdown",
      "id": "fec9da83-70cd-4580-8293-4722b1d3ea06",
      "metadata": {},
      "source": [
        "# Auto Diff\n",
        "\n",
        "## Automatic differentiation\n",
        "\n",
        "The cornerstone of modern machine learning and data-science is to be\n",
        "able to perform **automatic differentiation**, i.e., being able to\n",
        "compute the gradients for **any** function without the need to solve\n",
        "tedious calculus problems. For the more advanced parts of the course\n",
        "(e.g., neural networks), we will be using automatic differentiation\n",
        "libraries to perform gradient descent.\n",
        "\n",
        "While there are several libraries for performing these tasks, we will be\n",
        "using the `pyTorch` library for this. The installation procedure can be\n",
        "found\n",
        "[here](https://cran.r-project.org/web/packages/torch/vignettes/installation.html)\n",
        "\n",
        "The basic steps are:\n",
        "\n",
        "``` r\n",
        "renv::install(\"torch\")\n",
        "library(torch)\n",
        "torch::install_torch()\n",
        "```\n",
        "\n",
        "------------------------------------------------------------------------\n",
        "\n",
        "### Example 1:"
      ]
    },
    {
      "cell_type": "code",
      "execution_count": null,
      "id": "7d1b42ff-91f5-4ef1-a163-a33d0e8af0de",
      "metadata": {
        "vscode": {
          "languageId": "r"
        }
      },
      "outputs": [
        {
          "name": "stdout",
          "output_type": "stream",
          "text": [
            "torch_tensor\n",
            "-1.9922\n",
            "-0.7298\n",
            " 0.8747\n",
            "-1.5207\n",
            " 0.6054\n",
            "[ CPUFloatType{5,1} ][ requires_grad = TRUE ]"
          ]
        }
      ],
      "source": []
    },
    {
      "cell_type": "markdown",
      "id": "c515d7e4-2b22-4fa9-9ddb-b2c745ecad83",
      "metadata": {},
      "source": [
        "sqrt(sum(as_array(x)<sup>2)</sup>10)"
      ]
    },
    {
      "cell_type": "code",
      "execution_count": null,
      "id": "43911800-57cb-4efa-a9d7-558aeb38bdb8",
      "metadata": {
        "vscode": {
          "languageId": "r"
        }
      },
      "outputs": [
        {
          "name": "stdout",
          "output_type": "stream",
          "text": [
            "torch_tensor\n",
            "31667.5\n",
            "[ CPUFloatType{} ][ grad_fn = <PowBackward0> ]"
          ]
        }
      ],
      "source": []
    },
    {
      "cell_type": "markdown",
      "id": "045c91e7-092a-47f7-a020-25181a0f7065",
      "metadata": {},
      "source": [
        "$$\n",
        "\\frac{dy}{dx}\n",
        "$$"
      ]
    },
    {
      "cell_type": "code",
      "execution_count": null,
      "id": "472a7fc9-f8d0-47e5-9487-b2b8710ab5e8",
      "metadata": {
        "vscode": {
          "languageId": "r"
        }
      },
      "outputs": [
        {
          "name": "stdout",
          "output_type": "stream",
          "text": [
            "torch_tensor\n",
            "-79400.0391\n",
            "-29085.6895\n",
            " 34862.1875\n",
            "-60608.1094\n",
            " 24130.6699\n",
            "[ CPUFloatType{5,1} ]"
          ]
        }
      ],
      "source": []
    },
    {
      "cell_type": "code",
      "execution_count": null,
      "id": "3b6a8e81-8fc1-46f4-b61f-1bfa1da27e46",
      "metadata": {
        "vscode": {
          "languageId": "r"
        }
      },
      "outputs": [
        {
          "name": "stdout",
          "output_type": "stream",
          "text": [
            "torch_tensor\n",
            "-79400.0312\n",
            "-29085.6855\n",
            " 34862.1836\n",
            "-60608.1094\n",
            " 24130.6680\n",
            "[ CPUFloatType{5,1} ][ grad_fn = <MulBackward0> ]"
          ]
        }
      ],
      "source": []
    },
    {
      "cell_type": "markdown",
      "id": "6c3050cb-267a-4e87-89de-8df5f2e50714",
      "metadata": {},
      "source": [
        "------------------------------------------------------------------------\n",
        "\n",
        "### Example 2:"
      ]
    },
    {
      "cell_type": "code",
      "execution_count": null,
      "id": "c0cee085-74e9-4a43-b6ef-80423aeddeaf",
      "metadata": {
        "vscode": {
          "languageId": "r"
        }
      },
      "outputs": [
        {
          "name": "stdout",
          "output_type": "stream",
          "text": [
            "[[1]]\n",
            "torch_tensor\n",
            "-0.9284\n",
            " 1.4367\n",
            " 0.7671\n",
            "-0.7217\n",
            "-1.7426\n",
            "-0.8478\n",
            "-1.0915\n",
            " 1.4591\n",
            "-0.0799\n",
            " 0.8092\n",
            "[ CPUFloatType{10,1} ][ requires_grad = TRUE ]\n",
            "\n",
            "[[2]]\n",
            "torch_tensor\n",
            " 0.0789\n",
            "-1.0091\n",
            " 1.5513\n",
            "-1.9832\n",
            "-0.8194\n",
            "-0.2360\n",
            " 0.5273\n",
            "-2.0410\n",
            " 0.6720\n",
            "-0.7984\n",
            "[ CPUFloatType{10,1} ][ requires_grad = TRUE ]"
          ]
        }
      ],
      "source": []
    },
    {
      "cell_type": "code",
      "execution_count": null,
      "id": "45b98f68-6f62-411d-9792-e651e7337dbe",
      "metadata": {
        "vscode": {
          "languageId": "r"
        }
      },
      "outputs": [
        {
          "name": "stdout",
          "output_type": "stream",
          "text": [
            "torch_tensor\n",
            "-1.52693\n",
            "[ CPUFloatType{} ][ grad_fn = <SumBackward0> ]"
          ]
        }
      ],
      "source": []
    },
    {
      "cell_type": "code",
      "execution_count": null,
      "id": "138c56dd-3675-4623-9c10-aae62ce327fe",
      "metadata": {
        "vscode": {
          "languageId": "r"
        }
      },
      "outputs": [
        {
          "name": "stdout",
          "output_type": "stream",
          "text": [
            "[[1]]\n",
            "torch_tensor\n",
            " 0.0789\n",
            "-1.0091\n",
            " 1.5513\n",
            "-1.9832\n",
            "-0.8194\n",
            "-0.2360\n",
            " 0.5273\n",
            "-2.0410\n",
            " 0.6720\n",
            "-0.7984\n",
            "[ CPUFloatType{10,1} ]\n",
            "\n",
            "[[2]]\n",
            "torch_tensor\n",
            "-0.9284\n",
            " 1.4367\n",
            " 0.7671\n",
            "-0.7217\n",
            "-1.7426\n",
            "-0.8478\n",
            "-1.0915\n",
            " 1.4591\n",
            "-0.0799\n",
            " 0.8092\n",
            "[ CPUFloatType{10,1} ]"
          ]
        }
      ],
      "source": []
    },
    {
      "cell_type": "code",
      "execution_count": null,
      "id": "e4cacda3-7be7-4b80-a95e-be45431355d8",
      "metadata": {
        "vscode": {
          "languageId": "r"
        }
      },
      "outputs": [
        {
          "name": "stdout",
          "output_type": "stream",
          "text": [
            "[[1]]\n",
            "torch_tensor\n",
            " 0\n",
            " 0\n",
            " 0\n",
            " 0\n",
            " 0\n",
            " 0\n",
            " 0\n",
            " 0\n",
            " 0\n",
            " 0\n",
            "[ CPUFloatType{10,1} ][ grad_fn = <SubBackward0> ]\n",
            "\n",
            "[[2]]\n",
            "torch_tensor\n",
            " 0\n",
            " 0\n",
            " 0\n",
            " 0\n",
            " 0\n",
            " 0\n",
            " 0\n",
            " 0\n",
            " 0\n",
            " 0\n",
            "[ CPUFloatType{10,1} ][ grad_fn = <SubBackward0> ]"
          ]
        }
      ],
      "source": []
    },
    {
      "cell_type": "markdown",
      "id": "6319122b-7edd-4aea-adfe-f5514214e8b5",
      "metadata": {},
      "source": [
        "------------------------------------------------------------------------\n",
        "\n",
        "### Example 3:"
      ]
    },
    {
      "cell_type": "code",
      "execution_count": null,
      "id": "c4ee4bfa-9a74-47d6-9289-048e9686420f",
      "metadata": {
        "vscode": {
          "languageId": "r"
        }
      },
      "outputs": [
        {
          "data": {
            "image/png": "[encoded data removed]"
          },
          "metadata": {},
          "output_type": "display_data"
        }
      ],
      "source": []
    },
    {
      "cell_type": "code",
      "execution_count": null,
      "id": "d681730b-6abb-4cae-b1b6-c1ec86e1d8ef",
      "metadata": {
        "vscode": {
          "languageId": "r"
        }
      },
      "outputs": [
        {
          "name": "stdout",
          "output_type": "stream",
          "text": [
            "torch_tensor\n",
            " 0\n",
            " 0\n",
            "[ CPUFloatType{2,1} ][ requires_grad = TRUE ]"
          ]
        }
      ],
      "source": []
    },
    {
      "cell_type": "code",
      "execution_count": null,
      "id": "56313c4c-d613-41d5-b935-530702a0755a",
      "metadata": {
        "vscode": {
          "languageId": "r"
        }
      },
      "outputs": [],
      "source": []
    },
    {
      "cell_type": "code",
      "execution_count": null,
      "id": "96e0d4f4-66e3-4f23-b41c-ab018ecbcc6d",
      "metadata": {
        "vscode": {
          "languageId": "r"
        }
      },
      "outputs": [
        {
          "name": "stdout",
          "output_type": "stream",
          "text": [
            "Iteration: 1     Loss value: 2498.06005859375\n",
            "Iteration: 2     Loss value: 1759.53002929688\n",
            "Iteration: 3     Loss value: 1174.45300292969\n",
            "Iteration: 4     Loss value: 742.353759765625\n",
            "Iteration: 5     Loss value: 457.703643798828\n",
            "Iteration: 6     Loss value: 307.684936523438\n",
            "Iteration: 7     Loss value: 270.263397216797\n",
            "Iteration: 8     Loss value: 314.067993164062\n",
            "Iteration: 9     Loss value: 401.761566162109\n",
            "Iteration: 10    Loss value: 496.908325195312\n",
            "Iteration: 200   Loss value: 231.474166870117\n",
            "Iteration: 400   Loss value: 227.114730834961\n",
            "Iteration: 600   Loss value: 227.070495605469\n",
            "Iteration: 800   Loss value: 227.070404052734\n",
            "Iteration: 1000  Loss value: 227.070404052734\n",
            "Iteration: 1200  Loss value: 227.070404052734\n",
            "Iteration: 1400  Loss value: 227.070404052734\n",
            "Iteration: 1600  Loss value: 227.070404052734\n",
            "Iteration: 1800  Loss value: 227.070404052734\n",
            "Iteration: 2000  Loss value: 227.070404052734\n",
            "Iteration: 2200  Loss value: 227.070404052734\n",
            "Iteration: 2400  Loss value: 227.070434570312\n",
            "Iteration: 2600  Loss value: 227.070434570312\n",
            "Iteration: 2800  Loss value: 227.070434570312\n",
            "Iteration: 3000  Loss value: 227.070434570312\n",
            "Iteration: 3200  Loss value: 227.070434570312\n",
            "Iteration: 3400  Loss value: 227.070388793945\n",
            "Iteration: 3600  Loss value: 227.070404052734\n",
            "Iteration: 3800  Loss value: 227.070434570312\n",
            "Iteration: 4000  Loss value: 227.070404052734\n",
            "Iteration: 4200  Loss value: 227.070434570312\n",
            "Iteration: 4400  Loss value: 227.070434570312\n",
            "Iteration: 4600  Loss value: 227.070434570312\n",
            "Iteration: 4800  Loss value: 227.070404052734\n",
            "Iteration: 5000  Loss value: 227.070404052734\n",
            "Iteration: 5200  Loss value: 227.132614135742\n",
            "Iteration: 5400  Loss value: 227.070434570312\n",
            "Iteration: 5600  Loss value: 227.070434570312\n",
            "Iteration: 5800  Loss value: 227.071487426758\n",
            "Iteration: 6000  Loss value: 227.070434570312\n",
            "Iteration: 6200  Loss value: 227.070388793945\n",
            "Iteration: 6400  Loss value: 227.070404052734\n",
            "Iteration: 6600  Loss value: 227.070434570312\n",
            "Iteration: 6800  Loss value: 227.070404052734\n",
            "Iteration: 7000  Loss value: 227.352798461914\n",
            "Iteration: 7200  Loss value: 227.070449829102\n",
            "Iteration: 7400  Loss value: 227.070434570312\n",
            "Iteration: 7600  Loss value: 227.070388793945\n",
            "Iteration: 7800  Loss value: 227.070434570312\n",
            "Iteration: 8000  Loss value: 227.070434570312\n",
            "Iteration: 8200  Loss value: 227.070404052734\n",
            "Iteration: 8400  Loss value: 227.070404052734\n",
            "Iteration: 8600  Loss value: 227.479217529297\n",
            "Iteration: 8800  Loss value: 227.070434570312\n",
            "Iteration: 9000  Loss value: 227.070404052734\n",
            "Iteration: 9200  Loss value: 227.070404052734\n",
            "Iteration: 9400  Loss value: 227.071685791016\n",
            "Iteration: 9600  Loss value: 227.070434570312\n",
            "Iteration: 9800  Loss value: 227.070404052734\n",
            "Iteration: 10000     Loss value: 227.070434570312"
          ]
        }
      ],
      "source": []
    },
    {
      "cell_type": "code",
      "execution_count": null,
      "id": "3297410f-c848-4b10-8480-5448047d4753",
      "metadata": {
        "vscode": {
          "languageId": "r"
        }
      },
      "outputs": [
        {
          "data": {
            "image/png": "[encoded data removed]"
          },
          "metadata": {},
          "output_type": "display_data"
        }
      ],
      "source": []
    },
    {
      "cell_type": "code",
      "execution_count": null,
      "id": "a5d00fd0-83b4-40bf-9e75-18327108d6b8",
      "metadata": {
        "vscode": {
          "languageId": "r"
        }
      },
      "outputs": [
        {
          "data": {
            "image/png": "[encoded data removed]"
          },
          "metadata": {},
          "output_type": "display_data"
        }
      ],
      "source": []
    },
    {
      "cell_type": "markdown",
      "id": "3637826e-776c-4307-b875-6f182bb51a09",
      "metadata": {},
      "source": [
        "## Logistic Regression\n",
        "\n",
        "$$\n",
        "\\boxed{y = \\beta_0 + \\beta_1 x_1 + \\dots \\beta_p x_p}\n",
        "$$\n",
        "\n",
        "looking at different loss functions:\n",
        "\n",
        "1.  Least-squares: $$\n",
        "    L(\\beta) = \\sum_{i=1}^n \\| y_i - \\beta_0 - \\beta_1 x_1 - \\dots - \\beta_p x_p\\|^2\n",
        "    $$\n",
        "\n",
        "2.  Penalized least squares/LASSO:\n",
        "\n",
        "$$\n",
        "L(\\beta) = \\sum_{i=1}^n \\| y_i - \\beta_0 - \\beta_1 x_1 - \\dots - \\beta_p x_p\\|^2 + \\lambda \\|{\\beta}\\|_1\n",
        "$$\n",
        "\n",
        "# Classification\n",
        "\n",
        "We will be using the following dataset for the examples here\n",
        "\n",
        "> Breast cancer dataset: This dataset contains measurements of various\n",
        "> characteristics of breast cancer cells, with the goal of predicting\n",
        "> whether a tumor is benign or malignant."
      ]
    },
    {
      "cell_type": "code",
      "execution_count": null,
      "id": "53466913-44d9-427a-8686-b1f0652bda79",
      "metadata": {
        "tags": [],
        "vscode": {
          "languageId": "r"
        }
      },
      "outputs": [],
      "source": [
        "url <- \"https://archive.ics.uci.edu/ml/machine-learning-databases/breast-cancer-wisconsin/wdbc.data\"\n",
        "col_names <- c(\"id\", \"diagnosis\", paste0(\"feat\", 1:30))\n",
        "df <- read_csv(\n",
        "    url, col_names, col_types = cols()\n",
        "    ) %>% \n",
        "    select(-id) %>% \n",
        "    mutate(outcome = ifelse(diagnosis == \"M\", 1, 0)) %>%\n",
        "    select(-diagnosis)"
      ]
    },
    {
      "cell_type": "code",
      "execution_count": null,
      "id": "c6f93b85-4bb4-4432-8144-fe10e8403b74",
      "metadata": {
        "tags": [],
        "vscode": {
          "languageId": "r"
        }
      },
      "outputs": [
        {
          "name": "stdout",
          "output_type": "stream",
          "text": [
            "# A tibble: 6 × 31\n",
            "  feat1 feat2 feat3 feat4  feat5  feat6  feat7  feat8 feat9 feat10 feat11 feat12\n",
            "  <dbl> <dbl> <dbl> <dbl>  <dbl>  <dbl>  <dbl>  <dbl> <dbl>  <dbl>  <dbl>  <dbl>\n",
            "1  18.0  10.4 123.  1001  0.118  0.278  0.300  0.147  0.242 0.0787  1.10   0.905\n",
            "2  20.6  17.8 133.  1326  0.0847 0.0786 0.0869 0.0702 0.181 0.0567  0.544  0.734\n",
            "3  19.7  21.2 130   1203  0.110  0.160  0.197  0.128  0.207 0.0600  0.746  0.787\n",
            "4  11.4  20.4  77.6  386. 0.142  0.284  0.241  0.105  0.260 0.0974  0.496  1.16 \n",
            "5  20.3  14.3 135.  1297  0.100  0.133  0.198  0.104  0.181 0.0588  0.757  0.781\n",
            "6  12.4  15.7  82.6  477. 0.128  0.17   0.158  0.0809 0.209 0.0761  0.334  0.890\n",
            "# ℹ 19 more variables: feat13 <dbl>, feat14 <dbl>, feat15 <dbl>, feat16 <dbl>,\n",
            "#   feat17 <dbl>, feat18 <dbl>, feat19 <dbl>, feat20 <dbl>, feat21 <dbl>,\n",
            "#   feat22 <dbl>, feat23 <dbl>, feat24 <dbl>, feat25 <dbl>, feat26 <dbl>,\n",
            "#   feat27 <dbl>, feat28 <dbl>, feat29 <dbl>, feat30 <dbl>, outcome <dbl>"
          ]
        }
      ],
      "source": [
        "head(df)"
      ]
    },
    {
      "cell_type": "markdown",
      "id": "47a18d4c-2526-4fc8-a7bf-32110a7b5dca",
      "metadata": {},
      "source": [
        "The problem with linear regression for binary responses\n",
        "\n",
        "Let’s start by looking at an example. Imagine we have a dataset with a\n",
        "binary response variable (0 or 1) and a continuous predictor variable.\n",
        "We might be tempted to use linear regression with the lm() function to\n",
        "model the relationship between the predictor and response variables.\n",
        "After all, linear regression is a powerful and flexible tool that can be\n",
        "used to model a wide range of relationships between variables.\n",
        "\n",
        "However, when we use linear regression with a binary response variable,\n",
        "we quickly run into a problem. The linear regression model will give us\n",
        "a predicted value for the response variable for any given value of the\n",
        "predictor variable, but this predicted value is not a probability. The\n",
        "predicted value can take on any value between 0 and 1, but it doesn’t\n",
        "necessarily represent the probability of the response variable being a\n",
        "1.\n",
        "\n",
        "To see why this is a problem, consider the following scenario. Suppose\n",
        "we have a dataset with a binary response variable and a continuous\n",
        "predictor variable. We fit a linear regression model to the data using\n",
        "the lm() function in R, and we get a predicted value of 0.8 for the\n",
        "response variable when the predictor variable has a value of 1.5. What\n",
        "does this predicted value of 0.8 actually mean?\n",
        "\n",
        "If we interpret the predicted value as a probability, we might conclude\n",
        "that the probability of the response variable being a 1 when the\n",
        "predictor variable has a value of 1.5 is 0.8. But this interpretation is\n",
        "incorrect. The predicted value from linear regression is not a\n",
        "probability, and it can take on values greater than 1 or less than 0."
      ]
    },
    {
      "cell_type": "code",
      "execution_count": null,
      "id": "b3622e49-bc6f-483f-b056-e918360e0187",
      "metadata": {
        "tags": [],
        "vscode": {
          "languageId": "r"
        }
      },
      "outputs": [
        {
          "name": "stdout",
          "output_type": "stream",
          "text": [
            "\n",
            "Call:\n",
            "lm(formula = outcome ~ ., data = df)\n",
            "\n",
            "Residuals:\n",
            "     Min       1Q   Median       3Q      Max \n",
            "-0.60241 -0.16209 -0.02705  0.12982  0.82295 \n",
            "\n",
            "Coefficients:\n",
            "              Estimate Std. Error t value Pr(>|t|)    \n",
            "(Intercept) -2.0218117  0.4280072  -4.724 2.96e-06 ***\n",
            "feat1       -0.2177721  0.1735089  -1.255 0.209985    \n",
            "feat2        0.0045455  0.0079439   0.572 0.567426    \n",
            "feat3        0.0237399  0.0250985   0.946 0.344641    \n",
            "feat4        0.0003178  0.0005253   0.605 0.545391    \n",
            "feat5        0.0846891  2.0172759   0.042 0.966529    \n",
            "feat6       -4.2220353  1.3336803  -3.166 0.001635 ** \n",
            "feat7        1.3979973  1.0458611   1.337 0.181887    \n",
            "feat8        2.1418330  1.9791819   1.082 0.279657    \n",
            "feat9        0.1027092  0.7427382   0.138 0.890067    \n",
            "feat10       0.0332616  5.5722693   0.006 0.995240    \n",
            "feat11       0.4349559  0.3104682   1.401 0.161800    \n",
            "feat12      -0.0067585  0.0368439  -0.183 0.854525    \n",
            "feat13      -0.0225203  0.0411183  -0.548 0.584129    \n",
            "feat14      -0.0009232  0.0013978  -0.660 0.509235    \n",
            "feat15      15.8543207  6.6248737   2.393 0.017046 *  \n",
            "feat16       0.0649034  2.1694829   0.030 0.976145    \n",
            "feat17      -3.5654680  1.3007522  -2.741 0.006327 ** \n",
            "feat18      10.5679513  5.4520354   1.938 0.053103 .  \n",
            "feat19       1.6973407  2.7276006   0.622 0.534019    \n",
            "feat20      -7.1464402 11.6764096  -0.612 0.540769    \n",
            "feat21       0.1951831  0.0579677   3.367 0.000814 ***\n",
            "feat22       0.0071594  0.0069489   1.030 0.303339    \n",
            "feat23      -0.0024351  0.0059360  -0.410 0.681807    \n",
            "feat24      -0.0010112  0.0003197  -3.163 0.001648 ** \n",
            "feat25       0.5428569  1.4346393   0.378 0.705288    \n",
            "feat26       0.0671583  0.3830830   0.175 0.860902    \n",
            "feat27       0.3811912  0.2686173   1.419 0.156453    \n",
            "feat28       0.4643099  0.9142253   0.508 0.611751    \n",
            "feat29       0.5567875  0.4943014   1.126 0.260493    \n",
            "feat30       4.3034831  2.3832134   1.806 0.071517 .  \n",
            "---\n",
            "Signif. codes:  0 '***' 0.001 '**' 0.01 '*' 0.05 '.' 0.1 ' ' 1\n",
            "\n",
            "Residual standard error: 0.2362 on 538 degrees of freedom\n",
            "Multiple R-squared:  0.7743,    Adjusted R-squared:  0.7617 \n",
            "F-statistic: 61.53 on 30 and 538 DF,  p-value: < 2.2e-16"
          ]
        }
      ],
      "source": [
        "reg_model <- lm(outcome ~ ., df)\n",
        "summary(reg_model)"
      ]
    },
    {
      "cell_type": "code",
      "execution_count": null,
      "id": "edb66285-25f8-4e05-9f4f-1cac7ba5db22",
      "metadata": {
        "tags": [],
        "vscode": {
          "languageId": "r"
        }
      },
      "outputs": [],
      "source": [
        "n <- 100\n",
        "new_patients <- data.frame(matrix(rnorm(30 * n), nrow = n))\n",
        "colnames(new_patients) <- paste0(\"feat\", 1:30)\n",
        "new_predictions <- predict(reg_model, newdata = new_patients, type = \"response\")"
      ]
    },
    {
      "cell_type": "code",
      "execution_count": null,
      "id": "4e6541cb-1405-47f1-9d42-00c514d1ad16",
      "metadata": {
        "tags": [],
        "vscode": {
          "languageId": "r"
        }
      },
      "outputs": [
        {
          "name": "stdout",
          "output_type": "stream",
          "text": [
            "         1          2          3          4          5          6 \n",
            "-32.216986   1.298712 -25.769803 -14.514642  24.657170 -12.055481 "
          ]
        }
      ],
      "source": [
        "new_predictions %>% head()"
      ]
    },
    {
      "cell_type": "code",
      "execution_count": null,
      "id": "b5192481-a4b8-421b-b7bc-3ef1dbfda7fa",
      "metadata": {
        "tags": [],
        "vscode": {
          "languageId": "r"
        }
      },
      "outputs": [
        {
          "data": {
            "image/png": "[encoded data removed]"
          },
          "metadata": {},
          "output_type": "display_data"
        }
      ],
      "source": [
        "boxplot(new_predictions)"
      ]
    },
    {
      "cell_type": "markdown",
      "id": "d307a76b-3146-46ef-8e38-6209bd398b30",
      "metadata": {},
      "source": [
        "$$\n",
        "\\newcommand{\\logodds}{\\mathop{\\log\\text{-odds}}}\n",
        "$$\n",
        "\n",
        "$$\n",
        "\\begin{aligned}\n",
        "\\logodds(p(x)) = b_0 + b_1 x\\\\ \\\\ \\\\ \\\\\n",
        "p(x) = \\frac{1}{1 + \\exp(\\beta_0 + \\beta_1 x)}\n",
        "\\end{aligned}\n",
        "$$\n",
        "\n",
        "## The need for logistic regression\n",
        "\n",
        "So, what do we do when we have a binary response variable and we want to\n",
        "model the relationship between the predictor and response variables?\n",
        "This is where logistic regression comes in. Logistic regression is a\n",
        "type of generalized linear model that is specifically designed for\n",
        "binary response variables.\n",
        "\n",
        "The main idea behind logistic regression is to transform the predicted\n",
        "values from linear regression so that they represent probabilities. We\n",
        "do this using a function called the logistic function, which maps any\n",
        "value between negative infinity and positive infinity to a value between\n",
        "0 and 1. The logistic function is a sigmoidal curve that looks like an\n",
        "elongated S-shape. By applying the logistic function to the predicted\n",
        "values from linear regression, we can transform them into probabilities\n",
        "that represent the probability of the response variable being a 1.\n",
        "\n",
        "In the next section, we’ll dive into the details of logistic regression\n",
        "and see how it works in practice using the breast cancer dataset.\n",
        "\n",
        "#### Odds and odds ratios\n",
        "\n",
        "Let’s start by defining the odds of an event occurring. The odds of an\n",
        "event occurring are defined as the probability of the event occurring\n",
        "divided by the probability of the event not occurring. For example, if\n",
        "the probability of a basketball team winning a game is 0.6, then the\n",
        "odds of the team winning the game are 0.6/0.4 = 1.5.\n",
        "\n",
        "Odds ratios are a way to compare the odds of an event occurring between\n",
        "two different groups. The odds ratio is defined as the ratio of the odds\n",
        "of an event occurring in one group to the odds of the event occurring in\n",
        "another group. For example, if the odds of a basketball team winning a\n",
        "game are 1.5 in one group and 2.0 in another group, then the odds ratio\n",
        "of the first group to the second group is 1.5/2.0 = 0.75."
      ]
    },
    {
      "cell_type": "code",
      "execution_count": null,
      "id": "db967918-69ff-4470-b169-91e11a72c003",
      "metadata": {
        "tags": [],
        "vscode": {
          "languageId": "r"
        }
      },
      "outputs": [
        {
          "name": "stdout",
          "output_type": "stream",
          "text": [
            "Odds group 1: 1.3 "
          ]
        },
        {
          "name": "stdout",
          "output_type": "stream",
          "text": [
            "Odds group 2: 1.7 "
          ]
        },
        {
          "name": "stdout",
          "output_type": "stream",
          "text": [
            "Odds ratio: 0.76 "
          ]
        }
      ],
      "source": [
        "set.seed(123)\n",
        "binary_var <- rbinom(100, size = 1, prob = 0.6)\n",
        "group_var <- sample(1:2, size = 100, replace = TRUE)\n",
        "odds_group1 <- sum(binary_var[group_var == 1]) / sum(!binary_var[group_var == 1])\n",
        "odds_group2 <- sum(binary_var[group_var == 2]) / sum(!binary_var[group_var == 2])\n",
        "odds_ratio <- odds_group1 / odds_group2\n",
        "cat(paste(\"Odds group 1:\", round(odds_group1, 2), \"\\n\"))"
      ]
    },
    {
      "cell_type": "markdown",
      "id": "aa1850ca-e7f7-4a9c-b91a-f1aa90ed339a",
      "metadata": {},
      "source": [
        "#### Logistic regression model\n",
        "\n",
        "Now let’s move on to the logistic regression model. The logistic\n",
        "regression model is a type of generalized linear model that models the\n",
        "probability of an event occurring as a function of one or more predictor\n",
        "variables. The logistic regression model uses the logistic function,\n",
        "also known as the sigmoid function, to model the relationship between\n",
        "the predictor variables and the probability of the event occurring.\n",
        "\n",
        "**The sigmoid function is given as follows**\n",
        "\n",
        "$$\n",
        "\\sigma(x) = \\frac{1}{1 + e^{-x}}\n",
        "$$"
      ]
    },
    {
      "cell_type": "code",
      "execution_count": null,
      "id": "1c34aee6-935d-4fed-a489-d2923ffde3d1",
      "metadata": {
        "tags": [],
        "vscode": {
          "languageId": "r"
        }
      },
      "outputs": [
        {
          "data": {
            "image/png": "[encoded data removed]"
          },
          "metadata": {},
          "output_type": "display_data"
        }
      ],
      "source": [
        "sigmoid <- \\(x)  1 / (1 + exp(-x))\n",
        "\n",
        "curve(sigmoid, -10, 10, ylab=\"sigmoid(x)\")"
      ]
    },
    {
      "cell_type": "markdown",
      "id": "6d387641-65cf-4655-9b7b-5616c0d20fff",
      "metadata": {},
      "source": [
        "In logistic regression, the underlying model is assumed to be of the\n",
        "form\n",
        "\n",
        "$$\n",
        "\\boxed{p(x) = \\sigma\\Big(\\beta_0 + \\beta_1 x\\Big) = \\frac{1}{1 + \\exp({-\\beta_0 - \\beta_1 x})}}\n",
        "$$\n",
        "\n",
        "where $p(x)$ where is the probability of the event occurring given the\n",
        "value of the predictor variable $x$, and $b0$ and $b1$ are the\n",
        "**intercept** and **slope** coefficients of the logistic regression\n",
        "model, respectively.\n",
        "\n",
        "> $p(x)$ is gauranteed to be a probability for all values of $x$.\n",
        "\n",
        "Notice how this is similar to **linear regression** which has $$\n",
        "y(x) = \\beta_0 + \\beta_1 x\n",
        "$$\n",
        "\n",
        "The logistic function has an S-shaped curve and maps any real-valued\n",
        "input to a probability between 0 and 1. As such, the logistic regression\n",
        "model is well-suited for modeling binary response variables, where the\n",
        "goal is to predict the probability of an event occurring (e.g., whether\n",
        "a customer will buy a product or not).m\n",
        "\n",
        "## Logistic regression example\n",
        "\n",
        "The `glm()` function fits a generalized linear model, which includes\n",
        "logistic regression as a special case."
      ]
    },
    {
      "cell_type": "code",
      "execution_count": null,
      "id": "600a5a9f-9b36-47f2-bca3-f5b3829e3bed",
      "metadata": {},
      "outputs": [],
      "source": [
        "set.seed(123)\n",
        "x <- rnorm(1000)\n",
        "y <- rbinom(1000, size = 1, prob = exp(0.5 + 0.8*x)/(1 + exp(0.5 + 0.8*x)))"
      ]
    },
    {
      "cell_type": "code",
      "execution_count": null,
      "id": "f22937bd-9f4f-4e35-8c7e-d5edf36d9809",
      "metadata": {},
      "outputs": [
        {
          "name": "stdout",
          "output_type": "stream",
          "text": [
            "[1] 1 1 1 1 1 1"
          ]
        }
      ],
      "source": [
        "y %>% head()"
      ]
    },
    {
      "cell_type": "code",
      "execution_count": null,
      "id": "f558f6a8-c18a-4ff7-b048-8d11b8334f98",
      "metadata": {},
      "outputs": [
        {
          "name": "stdout",
          "output_type": "stream",
          "text": [
            "\n",
            "Call:\n",
            "glm(formula = y ~ x, family = binomial())\n",
            "\n",
            "Coefficients:\n",
            "            Estimate Std. Error z value Pr(>|z|)    \n",
            "(Intercept)  0.49917    0.06916   7.218 5.29e-13 ***\n",
            "x            0.73716    0.07696   9.578  < 2e-16 ***\n",
            "---\n",
            "Signif. codes:  0 '***' 0.001 '**' 0.01 '*' 0.05 '.' 0.1 ' ' 1\n",
            "\n",
            "(Dispersion parameter for binomial family taken to be 1)\n",
            "\n",
            "    Null deviance: 1335.7  on 999  degrees of freedom\n",
            "Residual deviance: 1228.5  on 998  degrees of freedom\n",
            "AIC: 1232.5\n",
            "\n",
            "Number of Fisher Scoring iterations: 4"
          ]
        }
      ],
      "source": [
        "model <- glm(y ~ x, family = binomial())\n",
        "summary(model)"
      ]
    },
    {
      "cell_type": "code",
      "execution_count": null,
      "id": "8b5a3f17-0e61-4184-b52c-93c7f7acfffb",
      "metadata": {},
      "outputs": [
        {
          "name": "stdout",
          "output_type": "stream",
          "text": [
            "(Intercept) \n",
            " 0.02778092 "
          ]
        }
      ],
      "source": [
        "x_test <- -5.5\n",
        "sigmoid(coef(model)[1] + coef(model)[2] * x_test)"
      ]
    },
    {
      "cell_type": "code",
      "execution_count": null,
      "id": "eac6b958-8a07-4686-a785-77f9ad5e1830",
      "metadata": {},
      "outputs": [
        {
          "name": "stdout",
          "output_type": "stream",
          "text": [
            "         1 \n",
            "0.02778092 "
          ]
        }
      ],
      "source": [
        "predict(model, newdata = data.frame(x=x_test), type=\"response\")"
      ]
    },
    {
      "cell_type": "code",
      "execution_count": null,
      "id": "a638934f-15c0-4e48-b8a9-20db23d2f6fb",
      "metadata": {},
      "outputs": [],
      "source": [
        "new_x <- seq(-2, 2, by = 0.1)\n",
        "p1 <- predict(model, data.frame(x=new_x))\n",
        "p2 <- predict(model, data.frame(x=new_x), type=\"response\")"
      ]
    },
    {
      "cell_type": "code",
      "execution_count": null,
      "id": "489ad59f-32a0-434d-b8ad-328d746f6ba2",
      "metadata": {
        "tags": []
      },
      "outputs": [
        {
          "data": {
            "image/png": "[encoded data removed]"
          },
          "metadata": {},
          "output_type": "display_data"
        }
      ],
      "source": [
        "boxplot(p1, p2)"
      ]
    },
    {
      "cell_type": "markdown",
      "id": "68ad957e-1e46-4a9f-9be4-dc6042e984a9",
      "metadata": {},
      "source": [
        "#### Logistic regression for breast cancer\n",
        "\n",
        "Let’s start by fitting a logistic regression model to the breast cancer\n",
        "dataset using the `glm()` function in R."
      ]
    },
    {
      "cell_type": "code",
      "execution_count": null,
      "id": "4a0c08e9-3b63-40de-a39d-7f1c0662abd0",
      "metadata": {},
      "outputs": [],
      "source": [
        "df <- df %>% mutate_at(\"outcome\", factor)"
      ]
    },
    {
      "cell_type": "code",
      "execution_count": null,
      "id": "edb51561-942c-4680-bdaf-4e7e4ceb7bf1",
      "metadata": {},
      "outputs": [
        {
          "name": "stderr",
          "output_type": "stream",
          "text": [
            "Warning: glm.fit: algorithm did not converge"
          ]
        },
        {
          "name": "stderr",
          "output_type": "stream",
          "text": [
            "Warning: glm.fit: fitted probabilities numerically 0 or 1 occurred"
          ]
        },
        {
          "name": "stdout",
          "output_type": "stream",
          "text": [
            "\n",
            "Call:\n",
            "glm(formula = outcome ~ ., family = binomial(), data = df)\n",
            "\n",
            "Coefficients:\n",
            "              Estimate Std. Error z value Pr(>|z|)    \n",
            "(Intercept) -2.881e+06  2.816e+05 -10.233  < 2e-16 ***\n",
            "feat1        2.427e+06  2.693e+05   9.014  < 2e-16 ***\n",
            "feat2        1.958e+05  1.471e+04  13.313  < 2e-16 ***\n",
            "feat3        1.473e+06  2.464e+04  59.791  < 2e-16 ***\n",
            "feat4       -1.301e+05  3.907e+03 -33.301  < 2e-16 ***\n",
            "feat5       -1.525e+08  8.361e+06 -18.234  < 2e-16 ***\n",
            "feat6       -6.428e+06  3.213e+06  -2.001  0.04539 *  \n",
            "feat7        1.042e+06  1.408e+06   0.740  0.45959    \n",
            "feat8       -1.716e+07  5.382e+06  -3.188  0.00143 ** \n",
            "feat9        4.049e+07  7.772e+05  52.093  < 2e-16 ***\n",
            "feat10      -4.233e+07  2.169e+06 -19.519  < 2e-16 ***\n",
            "feat11       3.328e+07  1.169e+06  28.478  < 2e-16 ***\n",
            "feat12       6.368e+06  2.005e+05  31.763  < 2e-16 ***\n",
            "feat13       1.701e+06  4.720e+04  36.032  < 2e-16 ***\n",
            "feat14      -6.393e+05  1.835e+04 -34.840  < 2e-16 ***\n",
            "feat15       7.492e+08  1.224e+07  61.213  < 2e-16 ***\n",
            "feat16      -1.773e+08  5.732e+06 -30.931  < 2e-16 ***\n",
            "feat17       1.529e+08  5.340e+06  28.624  < 2e-16 ***\n",
            "feat18      -1.260e+09  4.012e+07 -31.398  < 2e-16 ***\n",
            "feat19       2.890e+08  4.126e+06  70.055  < 2e-16 ***\n",
            "feat20       1.512e+09  6.597e+07  22.921  < 2e-16 ***\n",
            "feat21      -6.130e+06  2.143e+05 -28.606  < 2e-16 ***\n",
            "feat22      -5.832e+05  2.437e+04 -23.935  < 2e-16 ***\n",
            "feat23      -3.538e+05  1.219e+04 -29.023  < 2e-16 ***\n",
            "feat24       8.950e+04  2.741e+03  32.658  < 2e-16 ***\n",
            "feat25      -2.161e+07  3.298e+06  -6.553 5.66e-11 ***\n",
            "feat26       8.986e+06  3.999e+05  22.470  < 2e-16 ***\n",
            "feat27      -3.028e+07  1.523e+06 -19.875  < 2e-16 ***\n",
            "feat28       1.431e+08  5.471e+06  26.162  < 2e-16 ***\n",
            "feat29      -2.474e+07  3.392e+05 -72.923  < 2e-16 ***\n",
            "feat30      -3.698e+07  5.340e+06  -6.926 4.33e-12 ***\n",
            "---\n",
            "Signif. codes:  0 '***' 0.001 '**' 0.01 '*' 0.05 '.' 0.1 ' ' 1\n",
            "\n",
            "(Dispersion parameter for binomial family taken to be 1)\n",
            "\n",
            "    Null deviance:   751.44  on 568  degrees of freedom\n",
            "Residual deviance: 32006.76  on 538  degrees of freedom\n",
            "AIC: 32069\n",
            "\n",
            "Number of Fisher Scoring iterations: 25"
          ]
        }
      ],
      "source": [
        "model <- glm(outcome ~ ., data = df, family = binomial())"
      ]
    },
    {
      "cell_type": "markdown",
      "id": "2a84a30f-0ddb-4f22-83ed-f370714da6ba",
      "metadata": {},
      "source": [
        "------------------------------------------------------------------------\n",
        "\n",
        "The output of the summary() function provides a summary of the model,\n",
        "including the coefficients of each predictor, their standard errors, and\n",
        "the corresponding p-values. The coefficients represent the log odds\n",
        "ratio of the response variable for each predictor. We can exponentiate\n",
        "the coefficients to get the odds ratios:m"
      ]
    },
    {
      "cell_type": "code",
      "execution_count": null,
      "id": "990da958-f7fe-453d-aba3-7d2cda437b1c",
      "metadata": {},
      "outputs": [
        {
          "name": "stdout",
          "output_type": "stream",
          "text": [
            "           1 \n",
            "2.220446e-16 "
          ]
        }
      ],
      "source": [
        "new_patient <- data.frame(matrix(rnorm(30), nrow = 1))\n",
        "names(new_patient) <- paste0(\"feat\", 1:30)\n",
        "predict(model, newdata = new_patient, type = \"response\")"
      ]
    },
    {
      "cell_type": "markdown",
      "id": "b82634e0-c2b7-4cbe-8f3b-6ba53d82571e",
      "metadata": {},
      "source": [
        "## Logistic Regression With Auto Diff\n",
        "\n",
        "### Redo logistic regression, but this time using the `torch` library\n",
        "\n",
        "Now that we have the torch library installed, we can perform logistic\n",
        "regression using the following steps:\n",
        "\n",
        "1.  Convert the data to a tensor\n",
        "2.  Define the model architecture\n",
        "3.  Define the loss function\n",
        "4.  Define the optimizer\n",
        "5.  Train the model\n",
        "6.  Make predictions"
      ]
    },
    {
      "cell_type": "code",
      "execution_count": null,
      "id": "c9230f0e-1134-412a-9bc3-61efe4868920",
      "metadata": {},
      "outputs": [],
      "source": []
    },
    {
      "cell_type": "code",
      "execution_count": null,
      "id": "9ebf0a84-1ffa-4111-8a4b-3311fed40769",
      "metadata": {},
      "outputs": [],
      "source": []
    },
    {
      "cell_type": "code",
      "execution_count": null,
      "id": "e5cc09fc-e320-4228-b1a2-0e8a88b11b39",
      "metadata": {
        "tags": [],
        "vscode": {
          "languageId": "r"
        }
      },
      "outputs": [],
      "source": []
    },
    {
      "cell_type": "code",
      "execution_count": null,
      "id": "da2ba1af-38d4-45e0-baff-bdb56060da70",
      "metadata": {},
      "outputs": [
        {
          "name": "stdout",
          "output_type": "stream",
          "text": [
            "torch_tensor\n",
            " 0.6366\n",
            " 0.6048\n",
            " 0.4242\n",
            " 0.5751\n",
            " 0.5692\n",
            " 0.4086\n",
            "[ CPUFloatType{6,1} ][ grad_fn = <SliceBackward0> ]"
          ]
        }
      ],
      "source": []
    },
    {
      "cell_type": "markdown",
      "id": "a7670991-34a0-4d26-b9fa-62f6082a0c23",
      "metadata": {},
      "source": [
        "> #### Question: What is an appropriate loss function?"
      ]
    },
    {
      "cell_type": "code",
      "execution_count": null,
      "id": "7f0c5ecf-62ad-4f8c-a365-43606d9b5712",
      "metadata": {
        "tags": [],
        "vscode": {
          "languageId": "r"
        }
      },
      "outputs": [],
      "source": []
    },
    {
      "cell_type": "code",
      "execution_count": null,
      "id": "ca5cab2f-9a14-47fd-bdda-1013fc602295",
      "metadata": {
        "tags": [],
        "vscode": {
          "languageId": "r"
        }
      },
      "outputs": [
        {
          "name": "stdout",
          "output_type": "stream",
          "text": [
            "torch_tensor\n",
            "0.280631\n",
            "[ CPUFloatType{} ][ grad_fn = <MeanBackward0> ]"
          ]
        }
      ],
      "source": []
    },
    {
      "cell_type": "markdown",
      "id": "e4e8e8d2-f2ed-4a32-9262-4d0000c81359",
      "metadata": {},
      "source": [
        "------------------------------------------------------------------------\n",
        "\n",
        "##### Optimization"
      ]
    },
    {
      "cell_type": "code",
      "execution_count": null,
      "id": "e0682175-3ae6-41fc-8c71-eeb6cbfa6f59",
      "metadata": {
        "tags": []
      },
      "outputs": [
        {
          "name": "stdout",
          "output_type": "stream",
          "text": [
            "$fc1.weight\n",
            "torch_tensor\n",
            " 0.8389\n",
            "[ CPUFloatType{1,1} ][ requires_grad = TRUE ]\n",
            "\n",
            "$fc1.bias\n",
            "torch_tensor\n",
            "0.01 *\n",
            " 3.6671\n",
            "[ CPUFloatType{1} ][ requires_grad = TRUE ]"
          ]
        }
      ],
      "source": []
    },
    {
      "cell_type": "code",
      "execution_count": null,
      "id": "4228d139-a337-436b-821a-55c2a57e9501",
      "metadata": {
        "tags": [],
        "vscode": {
          "languageId": "r"
        }
      },
      "outputs": [
        {
          "name": "stdout",
          "output_type": "stream",
          "text": [
            "Epoch: 20, Loss: 0.2622\n",
            "Epoch: 40, Loss: 0.2488\n",
            "Epoch: 60, Loss: 0.2420\n",
            "Epoch: 80, Loss: 0.2390\n",
            "Epoch: 100, Loss: 0.2378\n",
            "Epoch: 120, Loss: 0.2375\n",
            "Epoch: 140, Loss: 0.2375\n",
            "Epoch: 160, Loss: 0.2375\n",
            "Epoch: 180, Loss: 0.2375\n",
            "Epoch: 200, Loss: 0.2375"
          ]
        }
      ],
      "source": []
    },
    {
      "cell_type": "code",
      "execution_count": null,
      "id": "26137e59-a006-4e35-9889-c14927d5c12c",
      "metadata": {
        "tags": [],
        "vscode": {
          "languageId": "r"
        }
      },
      "outputs": [
        {
          "name": "stdout",
          "output_type": "stream",
          "text": [
            "$fc1.weight\n",
            "torch_tensor\n",
            "0.0001 *\n",
            "-3.7636\n",
            "[ CPUFloatType{1,1} ][ requires_grad = TRUE ]\n",
            "\n",
            "$fc1.bias\n",
            "torch_tensor\n",
            " 0.4558\n",
            "[ CPUFloatType{1} ][ requires_grad = TRUE ]"
          ]
        }
      ],
      "source": []
    },
    {
      "cell_type": "markdown",
      "id": "2f93a82b-0629-4971-8ad7-5845e787d53f",
      "metadata": {},
      "source": [
        "------------------------------------------------------------------------\n",
        "\n",
        "### Logistic loss function\n",
        "\n",
        "#### a.k.a. Binary cross entropy `nn_bce()`"
      ]
    },
    {
      "cell_type": "code",
      "execution_count": null,
      "id": "30b32f22-1206-4da0-b3c1-03b4a453a1b4",
      "metadata": {
        "tags": [],
        "vscode": {
          "languageId": "r"
        }
      },
      "outputs": [
        {
          "name": "stdout",
          "output_type": "stream",
          "text": [
            "An `nn_module` containing 0 parameters."
          ]
        }
      ],
      "source": []
    },
    {
      "cell_type": "code",
      "execution_count": null,
      "id": "5dea90ab-f74f-4498-9123-f410349f68e2",
      "metadata": {
        "tags": [],
        "vscode": {
          "languageId": "r"
        }
      },
      "outputs": [
        {
          "name": "stdout",
          "output_type": "stream",
          "text": [
            "torch_tensor\n",
            "0.682356\n",
            "[ CPUFloatType{} ][ grad_fn = <BinaryCrossEntropyBackward0> ]"
          ]
        }
      ],
      "source": []
    },
    {
      "cell_type": "markdown",
      "id": "14ff7319-3d00-4606-9aec-e923b9676d04",
      "metadata": {},
      "source": [
        "------------------------------------------------------------------------\n",
        "\n",
        "##### Optimization"
      ]
    },
    {
      "cell_type": "code",
      "execution_count": null,
      "id": "c1162fbc-1a94-47a7-a77b-36c7fa428a37",
      "metadata": {},
      "outputs": [
        {
          "name": "stdout",
          "output_type": "stream",
          "text": [
            "$fc1.weight\n",
            "torch_tensor\n",
            "0.01 *\n",
            " 2.8626\n",
            "[ CPUFloatType{1,1} ][ requires_grad = TRUE ]\n",
            "\n",
            "$fc1.bias\n",
            "torch_tensor\n",
            "0.01 *\n",
            " 6.1798\n",
            "[ CPUFloatType{1} ][ requires_grad = TRUE ]"
          ]
        }
      ],
      "source": []
    },
    {
      "cell_type": "code",
      "execution_count": null,
      "id": "04ca1209-7742-4c97-aff3-945847149fda",
      "metadata": {
        "vscode": {
          "languageId": "r"
        }
      },
      "outputs": [
        {
          "name": "stdout",
          "output_type": "stream",
          "text": [
            "Epoch: 20, Loss: 0.6456\n",
            "Epoch: 40, Loss: 0.6262\n",
            "Epoch: 60, Loss: 0.6185\n",
            "Epoch: 80, Loss: 0.6156\n",
            "Epoch: 100, Loss: 0.6146\n",
            "Epoch: 120, Loss: 0.6143\n",
            "Epoch: 140, Loss: 0.6142\n",
            "Epoch: 160, Loss: 0.6142\n",
            "Epoch: 180, Loss: 0.6142\n",
            "Epoch: 200, Loss: 0.6142"
          ]
        }
      ],
      "source": []
    },
    {
      "cell_type": "code",
      "execution_count": null,
      "id": "6e98e6d7-4870-415e-b584-b5cdaafd8fa8",
      "metadata": {},
      "outputs": [
        {
          "name": "stdout",
          "output_type": "stream",
          "text": [
            "$fc1.weight\n",
            "torch_tensor\n",
            " 0.7369\n",
            "[ CPUFloatType{1,1} ][ requires_grad = TRUE ]\n",
            "\n",
            "$fc1.bias\n",
            "torch_tensor\n",
            " 0.4991\n",
            "[ CPUFloatType{1} ][ requires_grad = TRUE ]"
          ]
        }
      ],
      "source": []
    },
    {
      "cell_type": "markdown",
      "id": "b8a65100-ab2f-4267-a6e4-33e5dc74226f",
      "metadata": {},
      "source": [
        "### Comparisons\n",
        "\n",
        "The first model minimizes `L`"
      ]
    },
    {
      "cell_type": "code",
      "execution_count": null,
      "id": "aaa0087b-c89b-4b4c-83bd-3b3622509093",
      "metadata": {},
      "outputs": [
        {
          "name": "stdout",
          "output_type": "stream",
          "text": [
            "[[1]]\n",
            "torch_tensor\n",
            "0.237456\n",
            "[ CPUFloatType{} ][ grad_fn = <MeanBackward0> ]\n",
            "\n",
            "[[2]]\n",
            "torch_tensor\n",
            "0.261895\n",
            "[ CPUFloatType{} ][ grad_fn = <MeanBackward0> ]"
          ]
        }
      ],
      "source": []
    },
    {
      "cell_type": "markdown",
      "id": "60389ff4-7b54-4781-a01d-d98640c54f3f",
      "metadata": {},
      "source": [
        "The second model minimizes `L2`"
      ]
    },
    {
      "cell_type": "code",
      "execution_count": null,
      "id": "f2bb698c-af7f-4391-8ae9-efd1c22d3a2e",
      "metadata": {},
      "outputs": [
        {
          "name": "stdout",
          "output_type": "stream",
          "text": [
            "[[1]]\n",
            "torch_tensor\n",
            "0.667903\n",
            "[ CPUFloatType{} ][ grad_fn = <BinaryCrossEntropyBackward0> ]\n",
            "\n",
            "[[2]]\n",
            "torch_tensor\n",
            "0.614227\n",
            "[ CPUFloatType{} ][ grad_fn = <BinaryCrossEntropyBackward0> ]"
          ]
        }
      ],
      "source": []
    },
    {
      "cell_type": "markdown",
      "id": "ba2c43d5-b21a-4c12-8f27-862ba0c168cd",
      "metadata": {},
      "source": [
        "How do they both compare in terms of their accuracy?"
      ]
    },
    {
      "cell_type": "code",
      "execution_count": null,
      "id": "3b6678ac-5b54-4806-8d70-a4d6f5940e85",
      "metadata": {},
      "outputs": [],
      "source": []
    },
    {
      "cell_type": "markdown",
      "id": "b6ec7935-fd0c-4377-869d-359d767d7bd6",
      "metadata": {},
      "source": [
        "This is the table of \\_expected values vs *actual predictions* made by\n",
        "the **first model**"
      ]
    },
    {
      "cell_type": "code",
      "execution_count": null,
      "id": "f0fa0c42-7ea0-4b83-9974-e4a28b62b184",
      "metadata": {},
      "outputs": [
        {
          "name": "stdout",
          "output_type": "stream",
          "text": [
            "        predictions_1\n",
            "expected   1\n",
            "       0 388\n",
            "       1 612"
          ]
        }
      ],
      "source": []
    },
    {
      "cell_type": "markdown",
      "id": "8d23ec82-d9e6-424a-93ad-3e0de25702d6",
      "metadata": {},
      "source": [
        "This is the table of *expected values vs actual predictions* made by the\n",
        "**second model**"
      ]
    },
    {
      "cell_type": "code",
      "execution_count": null,
      "id": "15ff0950-cc29-47f3-9793-dbfc69f31673",
      "metadata": {},
      "outputs": [
        {
          "name": "stdout",
          "output_type": "stream",
          "text": [
            "        predictions_2\n",
            "expected   0   1\n",
            "       0 143 245\n",
            "       1  94 518"
          ]
        }
      ],
      "source": []
    },
    {
      "cell_type": "markdown",
      "id": "a4616ae0-367d-406e-9a10-614219cd24e4",
      "metadata": {},
      "source": [
        "> We can see that using `nn_bce_loss()` does a **much better** job at\n",
        "> predicting the expected values."
      ]
    }
  ],
  "metadata": {
    "kernelspec": {
      "display_name": "Python 3",
      "language": "python",
      "name": "python3"
    }
  },
  "nbformat": 4,
  "nbformat_minor": 5
}
